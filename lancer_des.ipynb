{
 "cells": [
  {
   "cell_type": "markdown",
   "metadata": {
    "tags": []
   },
   "source": [
    "<h1 align=\"center\" style=\"font-size:40px\"> Lancer de dés </h1> \n",
    "<img src=\"https://www.lapouleapois.fr/img/cms/des.jpg\" alt=\"lancé de dés\" style=\"margin-left: auto; margin-right: auto;width:5cm\">\n",
    "<p style=\"text-align:center; color:orange; font-family:bold; font-size:20pt\">\n"
   ]
  },
  {
   "cell_type": "markdown",
   "metadata": {
    "tags": []
   },
   "source": [
    "<div class=\"alert alert-block alert-danger\">\n",
    "    <b>CONSIGNES GENERALES</b>\n",
    "     <ul>\n",
    "        <li> Lire les consignes dans les cellules bleues. </li>\n",
    "        <li> Les aides (cellules vertes) et les solutions (cellules jaunes) ne sont à utiliser qu'après avoir vraiment essayé de compléter le code. </li>\n",
    "         <li> Après avoir compléter une cellule, appuyer sur CTRL + ENTREE pour l'exécuter avant de passer à la suite</li>\n",
    "        <li> On trouvera des informations sur la syntaxe de python en suivant <a href=\"https://nuage-creteil.beta.education.fr/s/CAGbaAyDgCXm9pE\">ce lien</a>.\n",
    "</div>"
   ]
  },
  {
   "cell_type": "markdown",
   "metadata": {
    "tags": []
   },
   "source": [
    "<div class=\"alert alert-block alert-info\">\n",
    "    <b> Consignes </b>\n",
    "    <p> Exécuter la cellule suivante (CTRL + ENTREE) pour importer les bibliothèques de fonctions utiles et passer à la question suivante  </p>\n",
    "</div>"
   ]
  },
  {
   "cell_type": "code",
   "execution_count": 1,
   "metadata": {
    "tags": []
   },
   "outputs": [],
   "source": [
    "from random import randint  #fonction renvoyant aléatoirement en entier\n",
    "import matplotlib.pyplot as plt # Tracer de graphique"
   ]
  },
  {
   "cell_type": "markdown",
   "metadata": {
    "tags": []
   },
   "source": [
    "<div class=\"alert alert-block alert-info\">\n",
    "    <b> Consignes </b>\n",
    "    <p> Exécuter la cellule suivante qui définie la fonction lancer_des et passer à la suite.</p>\n",
    "</div>"
   ]
  },
  {
   "cell_type": "code",
   "execution_count": 2,
   "metadata": {
    "tags": []
   },
   "outputs": [],
   "source": [
    "def lancer_des(nb_des_i):\n",
    "    '''Fonction prenant en argument le nombre  de dés initial\n",
    "    On effectue un tirage et chaque dés donnant 6 est supprimé\n",
    "    La fonction renvoie le nombre de dés restant '''\n",
    "    nb_des_rest = int(nb_des_i)\n",
    "    for i in range(nb_des_i):\n",
    "        # tirage aléatoire d'un nombre : dépend du nombre de face du dés\n",
    "        resultat_lance = randint(1, 6) \n",
    "        if resultat_lance == 6 :\n",
    "            nb_des_rest = nb_des_rest-1\n",
    "    return nb_des_rest"
   ]
  },
  {
   "cell_type": "markdown",
   "metadata": {
    "tags": []
   },
   "source": [
    "<div class=\"alert alert-block alert-info\">\n",
    "    <b> Consignes </b>\n",
    "    <p> Exécuter la cellule suivant qui définie la fonction simul. On prendra le temps de lire la docstring (en rouge) afin de comprendre comment l'utiliser par la suite</p>"
   ]
  },
  {
   "cell_type": "code",
   "execution_count": 3,
   "metadata": {
    "tags": []
   },
   "outputs": [],
   "source": [
    "def simul (nb_des_i):\n",
    "    '''Fonction prenant en argument le nombre de dés initial.\n",
    "    Elle fait appelle à la fonction lance_des et affiche le graphique \n",
    "    représentant la variation du nombre de dés au cours des lancés.'''\n",
    "    ### initialisation des variables ###\n",
    "    N_t = int(nb_des_i)\n",
    "    # liste comptant les lancés\n",
    "    LANCES = []\n",
    "    # liste contenant les nombre de dés après chaque lancé\n",
    "    N = [] \n",
    "    compteur = 0\n",
    "    \n",
    "    ### lancé des dés tant qu'il en reste plus de 10% ###\n",
    "    while N_t > 0.1 * nb_des_i :\n",
    "        LANCES.append(compteur)\n",
    "        N.append(N_t)\n",
    "        N_t = lancer_des(N_t)\n",
    "        # On incrémente le compteur\n",
    "        compteur = compteur + 1 \n",
    "        \n",
    "    ### tracer de la courbe ###\n",
    "    plt.plot(LANCES, N, '-o' )\n",
    "    #quelques éléments graphiques\n",
    "    plt.grid()\n",
    "    plt.xlim(0)\n",
    "    plt.ylim(0)\n",
    "    plt.xlabel(\"Nombre de tirages\")\n",
    "    plt.ylabel(\"Nombre de dés restants\")\n",
    "    plt.show()"
   ]
  },
  {
   "cell_type": "markdown",
   "metadata": {
    "tags": []
   },
   "source": [
    "<div class=\"alert alert-block alert-info\">\n",
    "    <b> Consignes </b>\n",
    "    <p> Utiliser les cellules ci-dessous pour répondre à la question 3. </p>"
   ]
  },
  {
   "cell_type": "code",
   "execution_count": 4,
   "metadata": {},
   "outputs": [
    {
     "data": {
      "image/png": "[encoded data removed]",
      "text/plain": [
       "<Figure size 432x288 with 1 Axes>"
      ]
     },
     "metadata": {
      "needs_background": "light"
     },
     "output_type": "display_data"
    }
   ],
   "source": [
    "# Question 3\n",
    "simul(20)"
   ]
  },
  {
   "cell_type": "markdown",
   "metadata": {
    "tags": []
   },
   "source": [
    "<div class=\"alert alert-block alert-success\">\n",
    "    <details>\n",
    "        <summary> <b> Aides </b> </summary>\n",
    "        <ul>\n",
    "            <li> Il faut utiliser la fonction définie précédemment</li>\n",
    "            <li> La valeur de l'argument est au choix et dépend de la question</li>\n",
    "       \n",
    "</div>"
   ]
  },
  {
   "cell_type": "markdown",
   "metadata": {},
   "source": [
    "<div class=\"alert alert-block alert-warning\">\n",
    "    <details>\n",
    "        <summary> <b> Solution </b> </summary>\n",
    "        <p> Il faut appeler la fonction simul en passant en argument la valeur correspondant au nombre de dès initial : 2000 <code>simul(2000) </code> </p>\n",
    "    </details>\n",
    "</div>"
   ]
  },
  {
   "cell_type": "code",
   "execution_count": 5,
   "metadata": {},
   "outputs": [
    {
     "ename": "TypeError",
     "evalue": "simul() missing 1 required positional argument: 'nb_des_i'",
     "output_type": "error",
     "traceback": [
      "\u001b[1;31m---------------------------------------------------------------------------\u001b[0m",
      "\u001b[1;31mTypeError\u001b[0m                                 Traceback (most recent call last)",
      "\u001b[1;32m<ipython-input-5-b9cc21ecc55d>\u001b[0m in \u001b[0;36m<module>\u001b[1;34m\u001b[0m\n\u001b[0;32m      1\u001b[0m \u001b[1;31m# Question 3\u001b[0m\u001b[1;33m\u001b[0m\u001b[1;33m\u001b[0m\u001b[1;33m\u001b[0m\u001b[0m\n\u001b[1;32m----> 2\u001b[1;33m \u001b[0msimul\u001b[0m\u001b[1;33m(\u001b[0m\u001b[1;33m)\u001b[0m\u001b[1;33m\u001b[0m\u001b[1;33m\u001b[0m\u001b[0m\n\u001b[0m",
      "\u001b[1;31mTypeError\u001b[0m: simul() missing 1 required positional argument: 'nb_des_i'"
     ]
    }
   ],
   "source": [
    "# Question 3\n",
    "simul()"
   ]
  },
  {
   "cell_type": "code",
   "execution_count": 11,
   "metadata": {},
   "outputs": [],
   "source": [
    "# Question 3\n",
    "..."
   ]
  },
  {
   "cell_type": "code",
   "execution_count": null,
   "metadata": {},
   "outputs": [],
   "source": []
  },
  {
   "cell_type": "code",
   "execution_count": null,
   "metadata": {},
   "outputs": [],
   "source": []
  }
 ],
 "metadata": {
  "kernelspec": {
   "display_name": "Python 3",
   "language": "python",
   "name": "python3"
  },
  "language_info": {
   "codemirror_mode": {
    "name": "ipython",
    "version": 3
   },
   "file_extension": ".py",
   "mimetype": "text/x-python",
   "name": "python",
   "nbconvert_exporter": "python",
   "pygments_lexer": "ipython3",
   "version": "3.7.6"
  }
 },
 "nbformat": 4,
 "nbformat_minor": 5
}
